{
 "cells": [
  {
   "cell_type": "markdown",
   "metadata": {},
   "source": [
    "## Heart Disease\n",
    "This database contains 76 attributes, but all published experiments refer to using a subset of 14 of them.  In particular, the Cleveland database is the only one that has been used by ML researchers to date.  The \"goal\" field refers to the presence of heart disease in the patient.  It is integer valued from 0 (no presence) to 4. Experiments with the Cleveland database have concentrated on simply attempting to distinguish presence (values 1,2,3,4) from absence (value 0).  \n",
    "\n",
    "Variable Name\tRole\tType\tDemographic\tDescription\tUnits\tMissing Values\n",
    "age\tFeature\tInteger\tAge\t\tyears\tno\n",
    "sex\tFeature\tCategorical\tSex\t\t\tno\n",
    "cp\tFeature\tCategorical\t\t\t\tno\n",
    "trestbps\tFeature\tInteger\t\tresting blood pressure (on admission to the hospital)\tmm Hg\tno\n",
    "chol\tFeature\tInteger\t\tserum cholestoral\tmg/dl\tno\n",
    "fbs\tFeature\tCategorical\t\tfasting blood sugar > 120 mg/dl\t\tno\n",
    "restecg\tFeature\tCategorical\t\t\t\tno\n",
    "thalach\tFeature\tInteger\t\tmaximum heart rate achieved\t\tno\n",
    "exang\tFeature\tCategorical\t\texercise induced angina\t\tno\n",
    "oldpeak\tFeature\tInteger\t\tST depression induced by exercise relative to rest\t\tno\n",
    "slope\tFeature\tCategorical\t\t\t\tno\n",
    "ca\tFeature\tInteger\t\tnumber of major vessels (0-3) colored by flourosopy\t\tyes\n",
    "thal\tFeature\tCategorical\t\t\t\tyes\n",
    "num\tTarget\tInteger\t\tdiagnosis of heart disease\t\tno"
   ]
  },
  {
   "cell_type": "code",
   "execution_count": 1,
   "metadata": {},
   "outputs": [
    {
     "data": {
      "text/html": [
       "<div>\n",
       "<style scoped>\n",
       "    .dataframe tbody tr th:only-of-type {\n",
       "        vertical-align: middle;\n",
       "    }\n",
       "\n",
       "    .dataframe tbody tr th {\n",
       "        vertical-align: top;\n",
       "    }\n",
       "\n",
       "    .dataframe thead th {\n",
       "        text-align: right;\n",
       "    }\n",
       "</style>\n",
       "<table border=\"1\" class=\"dataframe\">\n",
       "  <thead>\n",
       "    <tr style=\"text-align: right;\">\n",
       "      <th></th>\n",
       "      <th>age</th>\n",
       "      <th>sex</th>\n",
       "      <th>cp</th>\n",
       "      <th>trestbps</th>\n",
       "      <th>chol</th>\n",
       "      <th>fbs</th>\n",
       "      <th>restecg</th>\n",
       "      <th>thalach</th>\n",
       "      <th>exang</th>\n",
       "      <th>oldpeak</th>\n",
       "      <th>slope</th>\n",
       "      <th>ca</th>\n",
       "      <th>thal</th>\n",
       "      <th>class</th>\n",
       "    </tr>\n",
       "  </thead>\n",
       "  <tbody>\n",
       "    <tr>\n",
       "      <th>0</th>\n",
       "      <td>63.0</td>\n",
       "      <td>1.0</td>\n",
       "      <td>1.0</td>\n",
       "      <td>145.0</td>\n",
       "      <td>233.0</td>\n",
       "      <td>1.0</td>\n",
       "      <td>2.0</td>\n",
       "      <td>150.0</td>\n",
       "      <td>0.0</td>\n",
       "      <td>2.3</td>\n",
       "      <td>3.0</td>\n",
       "      <td>0.0</td>\n",
       "      <td>6.0</td>\n",
       "      <td>0</td>\n",
       "    </tr>\n",
       "    <tr>\n",
       "      <th>1</th>\n",
       "      <td>67.0</td>\n",
       "      <td>1.0</td>\n",
       "      <td>4.0</td>\n",
       "      <td>160.0</td>\n",
       "      <td>286.0</td>\n",
       "      <td>0.0</td>\n",
       "      <td>2.0</td>\n",
       "      <td>108.0</td>\n",
       "      <td>1.0</td>\n",
       "      <td>1.5</td>\n",
       "      <td>2.0</td>\n",
       "      <td>3.0</td>\n",
       "      <td>3.0</td>\n",
       "      <td>2</td>\n",
       "    </tr>\n",
       "    <tr>\n",
       "      <th>2</th>\n",
       "      <td>67.0</td>\n",
       "      <td>1.0</td>\n",
       "      <td>4.0</td>\n",
       "      <td>120.0</td>\n",
       "      <td>229.0</td>\n",
       "      <td>0.0</td>\n",
       "      <td>2.0</td>\n",
       "      <td>129.0</td>\n",
       "      <td>1.0</td>\n",
       "      <td>2.6</td>\n",
       "      <td>2.0</td>\n",
       "      <td>2.0</td>\n",
       "      <td>7.0</td>\n",
       "      <td>1</td>\n",
       "    </tr>\n",
       "    <tr>\n",
       "      <th>3</th>\n",
       "      <td>37.0</td>\n",
       "      <td>1.0</td>\n",
       "      <td>3.0</td>\n",
       "      <td>130.0</td>\n",
       "      <td>250.0</td>\n",
       "      <td>0.0</td>\n",
       "      <td>0.0</td>\n",
       "      <td>187.0</td>\n",
       "      <td>0.0</td>\n",
       "      <td>3.5</td>\n",
       "      <td>3.0</td>\n",
       "      <td>0.0</td>\n",
       "      <td>3.0</td>\n",
       "      <td>0</td>\n",
       "    </tr>\n",
       "    <tr>\n",
       "      <th>4</th>\n",
       "      <td>41.0</td>\n",
       "      <td>0.0</td>\n",
       "      <td>2.0</td>\n",
       "      <td>130.0</td>\n",
       "      <td>204.0</td>\n",
       "      <td>0.0</td>\n",
       "      <td>2.0</td>\n",
       "      <td>172.0</td>\n",
       "      <td>0.0</td>\n",
       "      <td>1.4</td>\n",
       "      <td>1.0</td>\n",
       "      <td>0.0</td>\n",
       "      <td>3.0</td>\n",
       "      <td>0</td>\n",
       "    </tr>\n",
       "  </tbody>\n",
       "</table>\n",
       "</div>"
      ],
      "text/plain": [
       "    age  sex   cp  trestbps   chol  fbs  restecg  thalach  exang  oldpeak  \\\n",
       "0  63.0  1.0  1.0     145.0  233.0  1.0      2.0    150.0    0.0      2.3   \n",
       "1  67.0  1.0  4.0     160.0  286.0  0.0      2.0    108.0    1.0      1.5   \n",
       "2  67.0  1.0  4.0     120.0  229.0  0.0      2.0    129.0    1.0      2.6   \n",
       "3  37.0  1.0  3.0     130.0  250.0  0.0      0.0    187.0    0.0      3.5   \n",
       "4  41.0  0.0  2.0     130.0  204.0  0.0      2.0    172.0    0.0      1.4   \n",
       "\n",
       "   slope   ca thal  class  \n",
       "0    3.0  0.0  6.0      0  \n",
       "1    2.0  3.0  3.0      2  \n",
       "2    2.0  2.0  7.0      1  \n",
       "3    3.0  0.0  3.0      0  \n",
       "4    1.0  0.0  3.0      0  "
      ]
     },
     "execution_count": 1,
     "metadata": {},
     "output_type": "execute_result"
    }
   ],
   "source": [
    "import pandas as pd\n",
    "\n",
    "columnas = [\"age\", \"sex\", \"cp\", \"trestbps\", \"chol\", \"fbs\", \"restecg\", \"thalach\", \"exang\", \"oldpeak\", \"slope\", \"ca\", \"thal\", \"class\"]\n",
    "data = pd.read_csv('processed.cleveland.data', names=columnas)\n",
    "data.head()"
   ]
  },
  {
   "cell_type": "code",
   "execution_count": 2,
   "metadata": {},
   "outputs": [
    {
     "data": {
      "text/plain": [
       "age         303\n",
       "sex         303\n",
       "cp          303\n",
       "trestbps    303\n",
       "chol        303\n",
       "fbs         303\n",
       "restecg     303\n",
       "thalach     303\n",
       "exang       303\n",
       "oldpeak     303\n",
       "slope       303\n",
       "ca          303\n",
       "thal        303\n",
       "class       303\n",
       "dtype: int64"
      ]
     },
     "execution_count": 2,
     "metadata": {},
     "output_type": "execute_result"
    }
   ],
   "source": [
    "#Contar los datos\n",
    "data.count()"
   ]
  },
  {
   "cell_type": "code",
   "execution_count": 3,
   "metadata": {},
   "outputs": [
    {
     "name": "stdout",
     "output_type": "stream",
     "text": [
      "Elementos en la columna AGE\n",
      "\n",
      "[63 67 37 41 56 62 57 53 44 52 48 54 49 64 58 60 50 66 43 40 69 59 42 55\n",
      " 61 65 71 51 46 45 39 68 47 34 35 29 70 77 38 74 76]\n",
      "Elementos en la columna SEX\n",
      "\n",
      "[1 0]\n",
      "Elementos en la columna CP\n",
      "\n",
      "[1. 4. 3. 2.]\n",
      "Elementos en la columna trestbps \n",
      "\n",
      "[145. 160. 120. 130. 140. 172. 150. 110. 132. 117. 135. 112. 105. 124.\n",
      " 125. 142. 128. 170. 155. 104. 180. 138. 108. 134. 122. 115. 118. 100.\n",
      " 200.  94. 165. 102. 152. 101. 126. 174. 148. 178. 158. 192. 129. 144.\n",
      " 123. 136. 146. 106. 156. 154. 114. 164.]\n",
      "Elementos en la columna CA \n",
      "\n",
      "['0.0' '3.0' '2.0' '1.0' '?']\n",
      "Elementos en la columna CA \n",
      "\n",
      "['0.0' '3.0' '2.0' '1.0' nan]\n"
     ]
    }
   ],
   "source": [
    "print(\"Elementos en la columna AGE\\n\")\n",
    "data['age'] = data['age'].astype(int) #Cambiar tipo de dato\n",
    "print(data['age'].unique())\n",
    "\n",
    "print(\"Elementos en la columna SEX\\n\")\n",
    "data['sex'] = data['sex'].astype(int) #Cambiar tipo de dato\n",
    "print(data['sex'].unique())\n",
    "\n",
    "print(\"Elementos en la columna CP\\n\")\n",
    "#data['sex'] = data['sex'].astype(int) #Cambiar tipo de dato\n",
    "print(data['cp'].unique())\n",
    "\n",
    "print(\"Elementos en la columna trestbps \\n\")\n",
    "#data['sex'] = data['sex'].astype(int) #Cambiar tipo de dato\n",
    "print(data['trestbps'].unique())\n",
    "\n",
    "#Repetir para todas las variables para comprobar\n",
    "\n",
    "print(\"Elementos en la columna CA \\n\")\n",
    "#data['sex'] = data['sex'].astype(int) #Cambiar tipo de dato\n",
    "print(data['ca'].unique())\n",
    "\n",
    "#Cambiar a numpy el '?'\n",
    "import numpy as np\n",
    "\n",
    "data = data.replace('?', np.nan)\n",
    "print(\"Elementos en la columna CA \\n\")\n",
    "#data['sex'] = data['sex'].astype(int) #Cambiar tipo de dato\n",
    "print(data['ca'].unique())"
   ]
  },
  {
   "cell_type": "code",
   "execution_count": null,
   "metadata": {},
   "outputs": [],
   "source": [
    "data.count()"
   ]
  },
  {
   "cell_type": "markdown",
   "metadata": {},
   "source": [
    "### ¿Qué hacer en caso de valores faltantes?\n",
    "1. Eliminar valores faltantes\n",
    "    - Cuanto tenemos muchos datos\n",
    "    - Cuando en las características no hay muchos datos\n",
    "2. Imputar los datos\n",
    "   - Numérico (Media)\n",
    "   - Categórico (Frecuencia)"
   ]
  },
  {
   "cell_type": "code",
   "execution_count": 5,
   "metadata": {},
   "outputs": [
    {
     "name": "stdout",
     "output_type": "stream",
     "text": [
      "0.0\n"
     ]
    },
    {
     "data": {
      "text/plain": [
       "'3.0'"
      ]
     },
     "execution_count": 5,
     "metadata": {},
     "output_type": "execute_result"
    }
   ],
   "source": [
    "#Como CA es una variable categórica - Frecuencia\n",
    "freq_ca = data['ca'].value_counts().idxmax()\n",
    "print(freq_ca)\n",
    "data['ca'] = data['ca'].replace(np.nan, freq_ca)\n"
   ]
  },
  {
   "cell_type": "code",
   "execution_count": null,
   "metadata": {},
   "outputs": [],
   "source": [
    "\n",
    "#Cambiar para thal\n",
    "freq_thal = data['thal'].value_counts().idxmax()\n",
    "print(freq_thal)\n",
    "data['thal'] = data['thal'].replace(np.nan, freq_thal)"
   ]
  },
  {
   "cell_type": "code",
   "execution_count": null,
   "metadata": {},
   "outputs": [],
   "source": [
    "media_edad = data['age'].mean()\n",
    "print(media_edad)"
   ]
  },
  {
   "cell_type": "code",
   "execution_count": null,
   "metadata": {},
   "outputs": [],
   "source": [
    "data.count()"
   ]
  },
  {
   "cell_type": "code",
   "execution_count": 25,
   "metadata": {},
   "outputs": [],
   "source": [
    "from sklearn.ensemble import RandomForestClassifier\n",
    "from sklearn.model_selection import train_test_split\n",
    "X = data.drop('class', axis = 1)\n",
    "y = data['class']\n",
    "\n",
    "xtrain, xtest, ytrain, ytest = train_test_split(X, y, test_size=0.3, random_state=42)\n",
    "\n",
    "rf = RandomForestClassifier()\n",
    "\n",
    "rf.fit(xtrain, ytrain)\n",
    "\n",
    "ypred = rf.predict(xtest)"
   ]
  },
  {
   "cell_type": "code",
   "execution_count": null,
   "metadata": {},
   "outputs": [],
   "source": [
    "from sklearn.metrics import accuracy_score\n",
    "\n",
    "print(f\"la exactitud alcanzada fue: {accuracy_score(ytest, ypred):.2f}\", )"
   ]
  },
  {
   "cell_type": "code",
   "execution_count": null,
   "metadata": {},
   "outputs": [],
   "source": []
  }
 ],
 "metadata": {
  "kernelspec": {
   "display_name": "dias",
   "language": "python",
   "name": "python3"
  },
  "language_info": {
   "codemirror_mode": {
    "name": "ipython",
    "version": 3
   },
   "file_extension": ".py",
   "mimetype": "text/x-python",
   "name": "python",
   "nbconvert_exporter": "python",
   "pygments_lexer": "ipython3",
   "version": "3.9.18"
  }
 },
 "nbformat": 4,
 "nbformat_minor": 2
}
